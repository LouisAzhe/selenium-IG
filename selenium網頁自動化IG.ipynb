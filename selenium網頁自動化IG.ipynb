{
 "cells": [
  {
   "cell_type": "code",
   "execution_count": null,
   "id": "cdae9e30",
   "metadata": {},
   "outputs": [],
   "source": [
    "#爬取ig關鍵字圖片\n",
    "from selenium import webdriver\n",
    "from selenium.webdriver.common.keys import Keys #讓電腦能模擬按鍵盤上的按鍵\n",
    "from selenium.webdriver.common.by import By\n",
    "from selenium.webdriver.support.ui import WebDriverWait\n",
    "from selenium.webdriver.support import expected_conditions as EC\n",
    "import time\n",
    "import os\n",
    "import wget\n",
    "import pyautogui\n",
    "#下面更換成你們的chromedriver位置\n",
    "path = 'C:/Users/Louis/chromedriver_win32/chromedriver.exe'\n",
    "driver = webdriver.Chrome(path)\n",
    "url = ('https://www.instagram.com/')\n",
    "driver.get(url)\n",
    "\n",
    "#等待標籤出現才作什麼，並且會回傳你設的標籤\n",
    "username = WebDriverWait(driver, 10).until(EC.presence_of_element_located((By.NAME, \"username\")))\n",
    "passwowrd = WebDriverWait(driver, 10).until(EC.presence_of_element_located((By.NAME, \"password\")))\n",
    "\n",
    "username.clear() #將回傳的內容清空，留下標籤準備填東西進去\n",
    "passwowrd.clear() #將回傳的內容清空，留下標籤準備填東西進去\n",
    "\n",
    "username.send_keys('你的IG帳號')\n",
    "passwowrd.send_keys('你的IG密碼')\n",
    "Xpath = '//*[@id=\"loginForm\"]/div/div[3]'\n",
    "loginbtn = driver.find_element_by_xpath(Xpath)\n",
    "loginbtn.click()\n",
    "\n",
    "#跳過煩人的提示\n",
    "Xpath2 = '/html/body/div[5]/div/div/div/div[3]/button[2]'\n",
    "WebDriverWait(driver, 10).until(EC.presence_of_element_located((By.XPATH, Xpath2)))\n",
    "skip = driver.find_element_by_xpath(Xpath2)\n",
    "skip.click()\n",
    "\n",
    "#尋找標籤\n",
    "Xpath3 = '//*[@id=\"react-root\"]/section/nav/div[2]/div/div/div[2]/input'\n",
    "search = WebDriverWait(driver, 10).until(EC.presence_of_element_located((By.XPATH, Xpath3)))\n",
    "keyword = '#corgi'\n",
    "search.send_keys(keyword)\n",
    "time.sleep(1)\n",
    "#IG 搜尋須按兩次 Enter才能進入，並且需有時間間隔\n",
    "search.send_keys(Keys.ENTER)\n",
    "time.sleep(1)\n",
    "search.send_keys(Keys.ENTER)\n",
    "\n",
    "time.sleep(5)\n",
    "WebDriverWait(driver, 10).until(EC.presence_of_element_located((By.CLASS_NAME, 'FFVAD')))\n",
    "\n",
    "#多生成幾張圖\n",
    "# for i in range(5):\n",
    "#     #將網頁滑到底1次\n",
    "#     driver.execute_script('window.scrollTo(0,document.body.scrollHeight);') #透過這個函式可以執行js程式碼 x,y座標\n",
    "#     time.sleep(5)\n",
    "\n",
    "imgs = driver.find_elements_by_class_name('FFVAD')\n",
    "\n",
    "PATH = os.path.join(keyword) #資料夾路徑 根據關鍵字命名資料夾\n",
    "os.mkdir(PATH) #創建資料夾\n",
    "\n",
    "count = 1\n",
    "for img in imgs:\n",
    "    save_as = os.path.join(PATH,keyword+str(count)+'.jpg') #下載到電腦的路徑\n",
    "    #print(img.get_attribute('src'))\n",
    "    wget.download(img.get_attribute('src'),save_as) #第一個參數是圖片在網上的路徑,第二個是載到電腦的哪裡\n",
    "    count+=1\n",
    "\n",
    "print('Application Finish')\n",
    "driver.quit()\n",
    "os.startfile(PATH)\n",
    "#滑鼠點擊資料夾\n",
    "#pyautogui.click(x=552, y=1404, duration=0.5)"
   ]
  },
  {
   "cell_type": "code",
   "execution_count": 21,
   "id": "2d80ff63",
   "metadata": {},
   "outputs": [
    {
     "data": {
      "text/plain": [
       "Point(x=552, y=1404)"
      ]
     },
     "execution_count": 21,
     "metadata": {},
     "output_type": "execute_result"
    }
   ],
   "source": [
    "import pyautogui\n",
    "pyautogui.position()"
   ]
  }
 ],
 "metadata": {
  "kernelspec": {
   "display_name": "Python 3 (ipykernel)",
   "language": "python",
   "name": "python3"
  },
  "language_info": {
   "codemirror_mode": {
    "name": "ipython",
    "version": 3
   },
   "file_extension": ".py",
   "mimetype": "text/x-python",
   "name": "python",
   "nbconvert_exporter": "python",
   "pygments_lexer": "ipython3",
   "version": "3.10.9"
  }
 },
 "nbformat": 4,
 "nbformat_minor": 5
}
